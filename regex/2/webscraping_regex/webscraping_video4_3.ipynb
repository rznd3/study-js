{
  "nbformat": 4,
  "nbformat_minor": 0,
  "metadata": {
    "colab": {
      "provenance": []
    },
    "kernelspec": {
      "name": "python3",
      "display_name": "Python 3"
    },
    "language_info": {
      "name": "python"
    }
  },
  "cells": [
    {
      "cell_type": "code",
      "source": [
        "import requests\n",
        "import re"
      ],
      "metadata": {
        "id": "VqG-G_MviA4c"
      },
      "execution_count": null,
      "outputs": []
    },
    {
      "cell_type": "code",
      "source": [
        "# url da página web\n",
        "url = 'https://monicahillman.github.io/monibank/'\n",
        "# Realize a requisição GET para obter o conteúdo da página\n",
        "response = requests.get(url)"
      ],
      "metadata": {
        "id": "8rbBeHC_kJS-"
      },
      "execution_count": null,
      "outputs": []
    },
    {
      "cell_type": "code",
      "source": [
        "# Verifique se a requisição foi bem-sucedida\n",
        "if response.status_code == 200:\n",
        "    # Conteúdo da página\n",
        "    pagina = response.text\n",
        "\n",
        "    # Padrao regex para encontrar linhas com somente a palavra \"bank\"\n",
        "    padrao = r'\\bbank\\b'\n",
        "\n",
        "    # Divida o conteúdo da página em linhas\n",
        "    linhas = pagina.split('\\n')\n",
        "\n",
        "    for indice, linha in enumerate(linhas, start=1):\n",
        "        if re.search(padrao, linha, re.IGNORECASE):\n",
        "            print(f\"Linha {indice}: {linha}\")\n",
        "else:\n",
        "    print(f\"A requisição GET para {url} falhou com o código {response.status_code}\")"
      ],
      "metadata": {
        "id": "yvdZwrl-kuj4"
      },
      "execution_count": null,
      "outputs": []
    }
  ]
}