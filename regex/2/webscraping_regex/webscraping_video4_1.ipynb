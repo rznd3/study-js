{
  "nbformat": 4,
  "nbformat_minor": 0,
  "metadata": {
    "colab": {
      "provenance": []
    },
    "kernelspec": {
      "name": "python3",
      "display_name": "Python 3"
    },
    "language_info": {
      "name": "python"
    }
  },
  "cells": [
    {
      "cell_type": "code",
      "source": [
        "import requests\n",
        "import re"
      ],
      "metadata": {
        "id": "VqG-G_MviA4c"
      },
      "execution_count": null,
      "outputs": []
    },
    {
      "cell_type": "code",
      "source": [
        "url = \"https://monicahillman.github.io/monibank/\"\n",
        "response = requests.get(url)\n",
        "html_content = response.text"
      ],
      "metadata": {
        "id": "8rbBeHC_kJS-"
      },
      "execution_count": null,
      "outputs": []
    },
    {
      "cell_type": "code",
      "source": [
        "pattern = r'<(h[1-2])[^>]*>(.*?)<\\/(h[1-2])>'\n",
        "\n",
        "headings = re.findall(pattern, html_content, re.DOTALL)\n",
        "for heading in headings:\n",
        "  print(heading)"
      ],
      "metadata": {
        "colab": {
          "base_uri": "https://localhost:8080/"
        },
        "id": "yvdZwrl-kuj4",
        "outputId": "63dc2f1f-14f8-4175-9484-1868db2ad16a"
      },
      "execution_count": null,
      "outputs": [
        {
          "output_type": "stream",
          "name": "stdout",
          "text": [
            "('h1', 'Moni<span class=\"cabecalho__logo-final\">Bank</span>', 'h1')\n",
            "('h2', 'Serviços', 'h2')\n",
            "('h2', 'Mais vantagens do nosso banco:', 'h2')\n",
            "('h2', 'O MoniBank', 'h2')\n",
            "('h2', 'Serviços', 'h2')\n",
            "('h2', 'Contato', 'h2')\n",
            "('h2', 'Acesse nossas redes', 'h2')\n",
            "('h2', '<span class=\"rodape__logo--negrito\">Moni</span>Bank', 'h2')\n"
          ]
        }
      ]
    }
  ]
}